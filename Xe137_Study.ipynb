{
 "cells": [
  {
   "cell_type": "code",
   "execution_count": null,
   "metadata": {},
   "outputs": [],
   "source": [
    "import matplotlib.pyplot as plt\n",
    "import pandas as pd\n",
    "%config InlineBackend.figure_format = 'svg'\n",
    "%matplotlib inline"
   ]
  },
  {
   "cell_type": "code",
   "execution_count": null,
   "metadata": {},
   "outputs": [],
   "source": [
    "xe136cross=pd.read_csv('crosssections/Xe136_N_XSec.csv',engine='python',header=None,delim_whitespace=True)\n",
    "xe131cross=pd.read_csv('crosssections/Xe131_N_XSec.csv',engine='python',header=None,delim_whitespace=True)\n",
    "He3cross=pd.read_csv('crosssections/He3_N_XSec.csv',engine='python',header=None,delim_whitespace=True)"
   ]
  },
  {
   "cell_type": "code",
   "execution_count": null,
   "metadata": {},
   "outputs": [],
   "source": [
    "plt.figure(figsize=(7,7))\n",
    "\n",
    "plt.plot(xe131cross[0]*1e-6,xe131cross[1],label=\"$^{131}$Xe\",color='xkcd:teal',lw=3)\n",
    "plt.plot(xe136cross[0]*1e-6,xe136cross[1],label=\"$^{136}$Xe\",color='xkcd:plum',lw=3)\n",
    "plt.plot(He3cross[0]*1e-6,He3cross[1],label=\"$^{3}$He\",color='xkcd:orange',lw=3)\n",
    "\n",
    "plt.semilogx()\n",
    "plt.semilogy()\n",
    "plt.yticks(fontsize=18)  \n",
    "plt.xticks(fontsize=18) \n",
    "plt.ylim(5e-5,5000)  \n",
    "plt.xlim(25e-9,20)\n",
    "plt.ylabel(\"n Capture Cross Section (barns)\",fontsize=20)\n",
    "plt.xlabel('Incident energy (MeV)',fontsize=20)\n",
    "plt.tight_layout()\n",
    "plt.legend(fontsize=18,loc='upper right')\n",
    "plt.show()"
   ]
  }
 ],
 "metadata": {
  "interpreter": {
   "hash": "4c022ead599c3cf71d3364d86188c9371bc9a69b1718911be7b13112b44a1b3f"
  },
  "kernelspec": {
   "display_name": "Python 3.8.8 64-bit ('base': conda)",
   "name": "python3"
  },
  "language_info": {
   "codemirror_mode": {
    "name": "ipython",
    "version": 3
   },
   "file_extension": ".py",
   "mimetype": "text/x-python",
   "name": "python",
   "nbconvert_exporter": "python",
   "pygments_lexer": "ipython3",
   "version": "3.8.8"
  },
  "orig_nbformat": 4
 },
 "nbformat": 4,
 "nbformat_minor": 2
}
