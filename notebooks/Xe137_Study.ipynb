{
 "cells": [
  {
   "cell_type": "code",
   "execution_count": null,
   "metadata": {},
   "outputs": [],
   "source": [
    "import matplotlib.pyplot as plt\n",
    "import pandas as pd\n",
    "import numpy as np\n",
    "%config InlineBackend.figure_format = 'svg'\n",
    "%matplotlib inline"
   ]
  },
  {
   "cell_type": "code",
   "execution_count": null,
   "metadata": {},
   "outputs": [],
   "source": [
    "xe136cross=pd.read_csv('../crosssections/Xe136_N_XSec.csv',engine='python',header=None,delim_whitespace=True)\n",
    "xe131cross=pd.read_csv('../crosssections/Xe131_N_XSec.csv',engine='python',header=None,delim_whitespace=True)\n",
    "He3cross=pd.read_csv('../crosssections/He3_N_XSec.csv',engine='python',header=None,delim_whitespace=True)"
   ]
  },
  {
   "cell_type": "code",
   "execution_count": null,
   "metadata": {},
   "outputs": [],
   "source": [
    "plt.figure(figsize=(7,7))\n",
    "\n",
    "plt.plot(xe131cross[0]*1e-6,xe131cross[1],label=\"$^{131}$Xe\",color='xkcd:teal',lw=3)\n",
    "plt.plot(xe136cross[0]*1e-6,xe136cross[1],label=\"$^{136}$Xe\",color='xkcd:plum',lw=3)\n",
    "plt.plot(He3cross[0]*1e-6,He3cross[1],label=\"$^{3}$He\",color='xkcd:orange',lw=3)\n",
    "\n",
    "plt.semilogx()\n",
    "plt.semilogy()\n",
    "plt.yticks(fontsize=18)  \n",
    "plt.xticks(fontsize=18) \n",
    "plt.ylim(5e-5,5000)  \n",
    "plt.xlim(25e-9,20)\n",
    "plt.ylabel(\"n Capture Cross Section (barns)\",fontsize=20)\n",
    "plt.xlabel('Incident energy (MeV)',fontsize=20)\n",
    "plt.tight_layout()\n",
    "plt.legend(fontsize=18,loc='upper right')\n",
    "plt.show()"
   ]
  },
  {
   "cell_type": "code",
   "execution_count": null,
   "metadata": {},
   "outputs": [],
   "source": [
    "acti_file = '../Xe137Count_sim87799000muons.h5'\n",
    "# acti_file = '../outputs/Muons.next.h5'\n",
    "muonnrgsproducingXe137 = pd.read_hdf(acti_file)\n"
   ]
  },
  {
   "cell_type": "code",
   "execution_count": null,
   "metadata": {},
   "outputs": [],
   "source": [
    "# Number of simulated Muons\n",
    "numberofmuons=87799000 \n",
    "\n",
    "# Binning Settings\n",
    "low_lim  = 1     # GeV\n",
    "high_lim = 3000  # GeV\n",
    "stp_size = 100\n",
    "bins        = np.linspace(low_lim, high_lim, 30) # 30 bins from 1 - 3k GeV\n",
    "bin_centers = bins[:-1] + np.diff(bins) / 2      # Shift values to bin centers\n",
    "\n",
    "# Create a flat distribution from 1 - 3k GeV\n",
    "nrgs = np.random.uniform(low_lim, high_lim, numberofmuons) \n",
    "\n",
    "# Make histogram from distribution with 1 - 3k GeV binning\n",
    "binned_sim_muons, _ = np.histogram(nrgs, bins=bins)\n",
    "plt.plot(binned_sim_muons)"
   ]
  },
  {
   "cell_type": "code",
   "execution_count": null,
   "metadata": {},
   "outputs": [],
   "source": [
    "# Plot the muon energies from 1 - 3k GeV\n",
    "binned_Xe137data    = plt.hist(muonnrgsproducingXe137['Xemunrg']*10**-3, bins)\n"
   ]
  },
  {
   "cell_type": "code",
   "execution_count": null,
   "metadata": {},
   "outputs": [],
   "source": [
    "# Load in the datframe again\n",
    "xe137_df = pd.read_hdf(acti_file)\n",
    "\n",
    "# Add an extra column converting units to GeV\n",
    "xe137_df['GeV'] = xe137_df.Xemunrg * 1e-3\n",
    "\n",
    "# Make a histogram of the data\n",
    "xe137_count, _ = np.histogram(xe137_df.GeV.values, bins = bins)\n",
    "\n",
    "# Divide the muon energy by the random flat distribution\n",
    "xe137_exp      = xe137_count / binned_sim_muons\n",
    "\n",
    "xe137_exp_err  = xe137_exp * np.sqrt(1 / xe137_count + 1 / numberofmuons)\n",
    "print(xe137_exp_err)"
   ]
  },
  {
   "cell_type": "code",
   "execution_count": null,
   "metadata": {},
   "outputs": [],
   "source": [
    "plt.figure(figsize=(7,7))\n",
    "\n",
    "\n",
    "plt.xlabel('Muon Energy (GeV)',fontsize=20)\n",
    "plt.ylabel(' $^{137}$Xe per Muon per '+str(stp_size)+ ' GeV (10$^{-4}$)',fontsize=20)\n",
    "plt.yticks(fontsize=18) \n",
    "plt.xticks(fontsize=18)\n",
    "\n",
    "plt.tight_layout()\n",
    "#plt.semilogy()\n",
    "plt.ylim(0,8.5)\n",
    "#plt.bar(bin_centers,(binned_Xe137data[0]/binned_sim_muons),width=stp_size,color=\"deepskyblue\",label=\"0% Helium\")    \n",
    "plt.errorbar(bin_centers, (binned_Xe137data[0]/binned_sim_muons*10**4 ), fmt='^',\n",
    "                 xerr = np.diff(bins) / 2, yerr = xe137_exp_err*10**4,color=\"deepskyblue\",label=\"0% $^{3}$He\",ms=5) \n",
    "             \n",
    "             \n",
    "#plt.ticklabel_format(style='sci', axis='y', scilimits=(0,0))\n",
    "plt.legend(fontsize=18, loc=\"upper left\", title=\"Mass Fraction\",title_fontsize=18)\n",
    "plt.savefig(\"xepermuenerg.png\",dpi=250,bbox_inches='tight')\n",
    "#plt.savefig(\"xepermuenerg.pdf\")\n",
    "plt.show()"
   ]
  }
 ],
 "metadata": {
  "interpreter": {
   "hash": "7c91472fb20de8ba2ff485eb095a4d7cb40afd553985721ecafe359985f62368"
  },
  "kernelspec": {
   "display_name": "Python 3.7.11 64-bit ('IC-3.7-2020-06-16': conda)",
   "name": "python3"
  },
  "language_info": {
   "codemirror_mode": {
    "name": "ipython",
    "version": 3
   },
   "file_extension": ".py",
   "mimetype": "text/x-python",
   "name": "python",
   "nbconvert_exporter": "python",
   "pygments_lexer": "ipython3",
   "version": "3.7.11"
  },
  "orig_nbformat": 4
 },
 "nbformat": 4,
 "nbformat_minor": 2
}
